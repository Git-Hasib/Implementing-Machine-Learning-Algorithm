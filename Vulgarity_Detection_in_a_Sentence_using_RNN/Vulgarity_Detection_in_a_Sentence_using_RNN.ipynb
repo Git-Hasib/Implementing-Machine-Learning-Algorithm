{
  "cells": [
    {
      "cell_type": "markdown",
      "source": [
        "# GROUP 1\n",
        "## *Vulgarity Detection in a sentence using RNN*\n",
        "\n",
        "\n",
        "---\n",
        "\n",
        "\n",
        "\n",
        "## Members:\n",
        "\n",
        "| Name | ID |\n",
        "|--|--|\n",
        "| Rokibul Islam | 011181102 |\n",
        "|Tahsin Habib Brinto |011181107|\n",
        "|Chion Ghosh |011181110|\n",
        "|Hasibul Hasan |011181117|\n",
        "\n",
        "\n",
        "\n",
        "---\n",
        "\n",
        "\n",
        "\n",
        "> CSE 416 (A) // Project"
      ],
      "metadata": {
        "id": "LVV2hiZK0YYl"
      }
    },
    {
      "cell_type": "code",
      "execution_count": null,
      "metadata": {
        "colab": {
          "base_uri": "https://localhost:8080/"
        },
        "id": "fxt-1RK1qIJv",
        "outputId": "a28b7b62-216c-40fe-a2e2-f609ce62559d"
      },
      "outputs": [
        {
          "output_type": "stream",
          "name": "stdout",
          "text": [
            "[nltk_data] Downloading package stopwords to /root/nltk_data...\n",
            "[nltk_data]   Package stopwords is already up-to-date!\n"
          ]
        }
      ],
      "source": [
        "import re\n",
        "import string\n",
        "\n",
        "import tensorflow as tf\n",
        "from tensorflow import keras\n",
        "import pandas as pd\n",
        "import numpy as np\n",
        "import os\n",
        "import matplotlib.pyplot as plt\n",
        "import time\n",
        "\n",
        "import nltk\n",
        "nltk.download('stopwords')\n",
        "from nltk.corpus import stopwords"
      ]
    },
    {
      "cell_type": "code",
      "source": [
        "from google.colab import drive\n",
        "drive.mount('/content/drive')"
      ],
      "metadata": {
        "colab": {
          "base_uri": "https://localhost:8080/"
        },
        "id": "wSNX2OexqOw4",
        "outputId": "097a1e7e-101b-4bb0-a5bf-7ab3b56feacc"
      },
      "execution_count": null,
      "outputs": [
        {
          "output_type": "stream",
          "name": "stdout",
          "text": [
            "Drive already mounted at /content/drive; to attempt to forcibly remount, call drive.mount(\"/content/drive\", force_remount=True).\n"
          ]
        }
      ]
    },
    {
      "cell_type": "code",
      "execution_count": null,
      "metadata": {
        "collapsed": true,
        "id": "9ttwkEf_qIJz"
      },
      "outputs": [],
      "source": [
        "text = []\n",
        "labels = []\n",
        "with open('/content/drive/MyDrive/Colab Notebooks/pattern_project/_warner.txt', 'r') as f:\n",
        "  with open('/content/drive/MyDrive/Colab Notebooks/pattern_project/data.csv', 'w', newline= '') as data:\n",
        "    d = f.readlines()\n",
        "    instances = [(d[i],d[i+1]) for i in range(0,len(d),3)]\n",
        "    for instance in instances:\n",
        "      label_class = instance[0]\n",
        "      feature = instance[1]\n",
        "\n",
        "      if 'notAbusive' in label_class:\n",
        "        label = 0\n",
        "      else:\n",
        "        label = 1\n",
        "\n",
        "      text.append(feature.replace('\\n', ''))\n",
        "      labels.append(label)\n",
        "\n",
        "    df = pd.DataFrame(list(zip(text, labels)), columns=['text', 'target'])"
      ]
    },
    {
      "cell_type": "code",
      "execution_count": null,
      "metadata": {
        "colab": {
          "base_uri": "https://localhost:8080/"
        },
        "id": "vOc4IgAuqIJz",
        "outputId": "ea37178f-fe27-48b2-b81b-95a5f8dac0b6"
      },
      "outputs": [
        {
          "output_type": "execute_result",
          "data": {
            "text/plain": [
              "(1280, 2)"
            ]
          },
          "metadata": {},
          "execution_count": 46
        }
      ],
      "source": [
        "df.head()\n",
        "df.shape"
      ]
    },
    {
      "cell_type": "markdown",
      "source": [
        "#Text Cleaning and Preprocessing"
      ],
      "metadata": {
        "id": "jX3CqDTfyew8"
      }
    },
    {
      "cell_type": "code",
      "execution_count": null,
      "metadata": {
        "id": "UlzHii2_qIJ0"
      },
      "outputs": [],
      "source": [
        "stop = set(stopwords.words(\"english\"))\n",
        "\n",
        "def remove_stopwords(text):\n",
        "    filtered_words = [word.lower() for word in text.split() if word.lower() not in stop]\n",
        "    return \" \".join(filtered_words)\n",
        "\n",
        "def remove_URL(text):\n",
        "    url = re.compile(r\"https?://\\S+|www\\.\\S+\")\n",
        "    return url.sub(r\"\", text)\n",
        "\n",
        "def remove_punct(text):\n",
        "    translator = str.maketrans(\"\", \"\", string.punctuation)\n",
        "    return text.translate(translator)\n",
        "  \n",
        "def remove_emoji(text):\n",
        "    emoji_pattern = re.compile(\"[\"\n",
        "        u\"\\U0001F600-\\U0001F64F\"  # emoticons\n",
        "        u\"\\U0001F300-\\U0001F5FF\"  # symbols & pictographs\n",
        "        u\"\\U0001F680-\\U0001F6FF\"  # transport & map symbols\n",
        "        u\"\\U0001F1E0-\\U0001F1FF\"  # flags (iOS)\n",
        "                            \"]+\", flags=re.UNICODE)\n",
        "    return emoji_pattern.sub(r'', text)"
      ]
    },
    {
      "cell_type": "code",
      "execution_count": null,
      "metadata": {
        "id": "tZDTUldpqIJ2"
      },
      "outputs": [],
      "source": [
        "df[\"text\"] = df.text.map(remove_stopwords)\n",
        "df[\"text\"] = df.text.map(remove_URL)\n",
        "df[\"text\"] = df.text.map(remove_punct)\n",
        "df[\"text\"] = df.text.map(remove_emoji)"
      ]
    },
    {
      "cell_type": "code",
      "execution_count": null,
      "metadata": {
        "id": "5bhVR_N-qIJ4"
      },
      "outputs": [],
      "source": [
        "from collections import Counter\n",
        "\n",
        "# Count unique words\n",
        "def counter_word(text_col):\n",
        "    count = Counter()\n",
        "    for text in text_col.values:\n",
        "        for word in text.split():\n",
        "            count[word] += 1\n",
        "    return count\n",
        "\n",
        "counter = counter_word(df.text)"
      ]
    },
    {
      "cell_type": "code",
      "execution_count": null,
      "metadata": {
        "id": "qHejWa5vqIJ5"
      },
      "outputs": [],
      "source": [
        "num_unique_words = len(counter)"
      ]
    },
    {
      "cell_type": "markdown",
      "source": [
        "#Over sampling our data as it's imbalanced\n",
        "### Using SMOTE (Synthetic Minority Over-sampling Technique)"
      ],
      "metadata": {
        "id": "LhSYsyBtHA1z"
      }
    },
    {
      "cell_type": "code",
      "source": [
        "from sklearn.model_selection import train_test_split\n",
        "X = df.text\n",
        "y = df.target\n",
        "\n",
        "train_sentences, val_sentences, train_labels, val_labels = train_test_split(X, y, train_size=0.8, random_state=911, stratify=y)"
      ],
      "metadata": {
        "id": "YFe1JqyTE7JK"
      },
      "execution_count": null,
      "outputs": []
    },
    {
      "cell_type": "code",
      "source": [
        "from imblearn.pipeline import Pipeline, make_pipeline\n",
        "from sklearn.feature_extraction.text import CountVectorizer\n",
        "from sklearn.feature_extraction.text import TfidfTransformer\n",
        "from sklearn.naive_bayes import MultinomialNB\n",
        "from imblearn.over_sampling import SMOTE\n",
        "\n",
        "\n",
        "textclassifier =Pipeline([\n",
        "  ('vect', CountVectorizer()),\n",
        "   ('tfidf', TfidfTransformer()),\n",
        "   ('smote', SMOTE(random_state=12)),\n",
        "   ('mnb', MultinomialNB(alpha =0.1))\n",
        "])\n",
        "\n",
        "textclassifier.fit(train_sentences, train_labels)"
      ],
      "metadata": {
        "id": "amL9vsloJOsW",
        "colab": {
          "base_uri": "https://localhost:8080/"
        },
        "outputId": "f3874eab-9e7b-4b92-ece3-402a1df856a7"
      },
      "execution_count": null,
      "outputs": [
        {
          "output_type": "execute_result",
          "data": {
            "text/plain": [
              "Pipeline(steps=[('vect', CountVectorizer()), ('tfidf', TfidfTransformer()),\n",
              "                ('smote', SMOTE(random_state=12)),\n",
              "                ('mnb', MultinomialNB(alpha=0.1))])"
            ]
          },
          "metadata": {},
          "execution_count": 52
        }
      ]
    },
    {
      "cell_type": "markdown",
      "source": [
        "# Tokenizing text"
      ],
      "metadata": {
        "id": "PTrZ3BdsITw_"
      }
    },
    {
      "cell_type": "code",
      "execution_count": null,
      "metadata": {
        "id": "QtLKpgccqIJ6"
      },
      "outputs": [],
      "source": [
        "from tensorflow.keras.preprocessing.text import Tokenizer\n",
        "\n",
        "tokenizer = Tokenizer(num_words=num_unique_words, oov_token='<OOV>')\n",
        "tokenizer.fit_on_texts(train_sentences) # fitting only to train data"
      ]
    },
    {
      "cell_type": "code",
      "execution_count": null,
      "metadata": {
        "id": "ER5SrlalqIJ6"
      },
      "outputs": [],
      "source": [
        "# each word has unique index\n",
        "word_index = tokenizer.word_index"
      ]
    },
    {
      "cell_type": "markdown",
      "source": [
        "# Test data (Manual)"
      ],
      "metadata": {
        "id": "W-1fHvfqP9Ka"
      }
    },
    {
      "cell_type": "code",
      "source": [
        "# test_sentances = ['When the snows fall and the white winds blow, the lone wolf dies but the pack survives.']\n",
        "\n",
        "\n",
        "# test_sentances =  [remove_stopwords(x) for x in test_sentances]\n",
        "# test_sentances =  [remove_URL(x) for x in test_sentances]\n",
        "# test_sentances =  [remove_emoji(x) for x in test_sentances]\n",
        "# test_sentances =  [remove_punct(x) for x in test_sentances]\n",
        "\n"
      ],
      "metadata": {
        "id": "3nSm1N2WQB_1"
      },
      "execution_count": null,
      "outputs": []
    },
    {
      "cell_type": "markdown",
      "source": [
        "## Generating sequesnces for the train and validation data"
      ],
      "metadata": {
        "id": "NsZiNj4FMcME"
      }
    },
    {
      "cell_type": "code",
      "execution_count": null,
      "metadata": {
        "id": "32VyGch2qIJ6"
      },
      "outputs": [],
      "source": [
        "train_sequences = tokenizer.texts_to_sequences(train_sentences)\n",
        "val_sequences = tokenizer.texts_to_sequences(val_sentences)\n",
        "# test_sequences = tokenizer.texts_to_sequences(test_sentances)"
      ]
    },
    {
      "cell_type": "markdown",
      "source": [
        "#Padding\n",
        "```tf.keras.layers.TextVectorization``` encoder could have been used. It does all the steps including preprocessing, vocabulary sequence --> padding and embedding"
      ],
      "metadata": {
        "id": "V_SKSSNaMlZa"
      }
    },
    {
      "cell_type": "code",
      "execution_count": null,
      "metadata": {
        "id": "3ZcH9J79qIJ7",
        "colab": {
          "base_uri": "https://localhost:8080/"
        },
        "outputId": "7ff7d7e8-1be3-4830-a0e0-c25a168343f1"
      },
      "outputs": [
        {
          "output_type": "execute_result",
          "data": {
            "text/plain": [
              "((1024, 40), (256, 40))"
            ]
          },
          "metadata": {},
          "execution_count": 57
        }
      ],
      "source": [
        "from tensorflow.keras.preprocessing.sequence import pad_sequences\n",
        "\n",
        "# Max number of words in a sequence\n",
        "max_length = 40\n",
        "\n",
        "train_padded = pad_sequences(train_sequences, maxlen=max_length, padding=\"post\", truncating=\"post\")\n",
        "val_padded = pad_sequences(val_sequences, maxlen=max_length, padding=\"post\", truncating=\"post\")\n",
        "# test_padded = pad_sequences(test_sequences, maxlen=max_length, padding=\"post\", truncating=\"post\")\n",
        "train_padded.shape, val_padded.shape"
      ]
    },
    {
      "cell_type": "markdown",
      "source": [
        "#Creating LSTM Model"
      ],
      "metadata": {
        "id": "XAmlQLcxNl_P"
      }
    },
    {
      "cell_type": "code",
      "source": [
        "from tensorflow.keras import layers\n",
        "\n",
        "model = keras.models.Sequential()\n",
        "model.add(layers.Embedding(num_unique_words, 32 , input_length=max_length))\n",
        "\n",
        "model.add(layers.LSTM(64, dropout=0.1))\n",
        "model.add(layers.Dense(1, activation=\"sigmoid\"))\n",
        "model.summary()"
      ],
      "metadata": {
        "colab": {
          "base_uri": "https://localhost:8080/"
        },
        "id": "W9OVNTmrlFye",
        "outputId": "29331441-53f1-4733-a4fb-917e8cd7ddd7"
      },
      "execution_count": null,
      "outputs": [
        {
          "output_type": "stream",
          "name": "stdout",
          "text": [
            "Model: \"sequential_2\"\n",
            "_________________________________________________________________\n",
            " Layer (type)                Output Shape              Param #   \n",
            "=================================================================\n",
            " embedding_2 (Embedding)     (None, 40, 32)            262528    \n",
            "                                                                 \n",
            " lstm_2 (LSTM)               (None, 64)                24832     \n",
            "                                                                 \n",
            " dense_2 (Dense)             (None, 1)                 65        \n",
            "                                                                 \n",
            "=================================================================\n",
            "Total params: 287,425\n",
            "Trainable params: 287,425\n",
            "Non-trainable params: 0\n",
            "_________________________________________________________________\n"
          ]
        }
      ]
    },
    {
      "cell_type": "code",
      "source": [
        "from tensorflow.keras.utils import plot_model\n",
        "from tensorflow.keras import metrics\n",
        "\n",
        "model.compile(loss='binary_crossentropy', \n",
        "              optimizer='adam', \n",
        "              metrics = ['Recall'])\n",
        "              \n",
        "plot_model(model, to_file='model.png', show_shapes=True, show_layer_names=True)"
      ],
      "metadata": {
        "colab": {
          "base_uri": "https://localhost:8080/",
          "height": 422
        },
        "id": "NHfGa_vTXckV",
        "outputId": "0e15d8d6-724a-4bd4-babe-11a4a7152821"
      },
      "execution_count": null,
      "outputs": [
        {
          "output_type": "execute_result",
          "data": {
            "image/png": "[encoded data removed]",
            "text/plain": [
              "<IPython.core.display.Image object>"
            ]
          },
          "metadata": {},
          "execution_count": 59
        }
      ]
    },
    {
      "cell_type": "code",
      "execution_count": null,
      "metadata": {
        "colab": {
          "base_uri": "https://localhost:8080/"
        },
        "id": "q2q9xlk9qIJ9",
        "outputId": "6a778ccc-cd38-4685-9d4c-4190ca054820"
      },
      "outputs": [
        {
          "output_type": "stream",
          "name": "stdout",
          "text": [
            "Epoch 1/100\n",
            "32/32 - 4s - loss: 0.4772 - recall: 0.0411 - val_loss: 0.4083 - val_recall: 0.0000e+00 - 4s/epoch - 123ms/step\n",
            "Epoch 2/100\n",
            "32/32 - 1s - loss: 0.3744 - recall: 0.0068 - val_loss: 0.3867 - val_recall: 0.0270 - 797ms/epoch - 25ms/step\n",
            "Epoch 3/100\n",
            "32/32 - 1s - loss: 0.2677 - recall: 0.4521 - val_loss: 0.3502 - val_recall: 0.6216 - 796ms/epoch - 25ms/step\n",
            "Epoch 4/100\n",
            "32/32 - 1s - loss: 0.1029 - recall: 0.9247 - val_loss: 0.4055 - val_recall: 0.3784 - 806ms/epoch - 25ms/step\n",
            "Epoch 5/100\n",
            "32/32 - 1s - loss: 0.1733 - recall: 0.9726 - val_loss: 0.7819 - val_recall: 0.7838 - 847ms/epoch - 26ms/step\n",
            "Epoch 6/100\n",
            "32/32 - 1s - loss: 0.2012 - recall: 0.5000 - val_loss: 0.5134 - val_recall: 0.0000e+00 - 823ms/epoch - 26ms/step\n",
            "Epoch 7/100\n",
            "32/32 - 1s - loss: 0.2671 - recall: 0.0000e+00 - val_loss: 0.4739 - val_recall: 0.0000e+00 - 814ms/epoch - 25ms/step\n",
            "Epoch 8/100\n",
            "32/32 - 1s - loss: 0.4210 - recall: 0.0000e+00 - val_loss: 0.4147 - val_recall: 0.0000e+00 - 850ms/epoch - 27ms/step\n",
            "Epoch 9/100\n",
            "32/32 - 1s - loss: 0.4096 - recall: 0.0000e+00 - val_loss: 0.4129 - val_recall: 0.0000e+00 - 823ms/epoch - 26ms/step\n",
            "Epoch 10/100\n",
            "32/32 - 1s - loss: 0.4096 - recall: 0.0000e+00 - val_loss: 0.4129 - val_recall: 0.0000e+00 - 835ms/epoch - 26ms/step\n",
            "Epoch 11/100\n",
            "32/32 - 1s - loss: 0.4086 - recall: 0.0000e+00 - val_loss: 0.4130 - val_recall: 0.0000e+00 - 826ms/epoch - 26ms/step\n",
            "Epoch 12/100\n",
            "32/32 - 1s - loss: 0.4083 - recall: 0.0000e+00 - val_loss: 0.4130 - val_recall: 0.0000e+00 - 834ms/epoch - 26ms/step\n",
            "Epoch 13/100\n",
            "32/32 - 1s - loss: 0.4078 - recall: 0.0000e+00 - val_loss: 0.4125 - val_recall: 0.0000e+00 - 813ms/epoch - 25ms/step\n",
            "Epoch 14/100\n",
            "32/32 - 1s - loss: 0.4069 - recall: 0.0000e+00 - val_loss: 0.4126 - val_recall: 0.0000e+00 - 816ms/epoch - 25ms/step\n",
            "Epoch 15/100\n",
            "32/32 - 1s - loss: 0.4063 - recall: 0.0000e+00 - val_loss: 0.4121 - val_recall: 0.0000e+00 - 805ms/epoch - 25ms/step\n",
            "Epoch 16/100\n",
            "32/32 - 1s - loss: 0.4039 - recall: 0.0000e+00 - val_loss: 0.4117 - val_recall: 0.0000e+00 - 809ms/epoch - 25ms/step\n",
            "Epoch 17/100\n",
            "32/32 - 1s - loss: 0.4007 - recall: 0.0000e+00 - val_loss: 0.4116 - val_recall: 0.0000e+00 - 792ms/epoch - 25ms/step\n",
            "Epoch 18/100\n",
            "32/32 - 1s - loss: 0.3973 - recall: 0.0000e+00 - val_loss: 0.4107 - val_recall: 0.0000e+00 - 861ms/epoch - 27ms/step\n",
            "Epoch 19/100\n",
            "32/32 - 1s - loss: 0.3912 - recall: 0.0000e+00 - val_loss: 0.4095 - val_recall: 0.0000e+00 - 814ms/epoch - 25ms/step\n",
            "Epoch 20/100\n",
            "32/32 - 1s - loss: 0.3817 - recall: 0.0000e+00 - val_loss: 0.4071 - val_recall: 0.0000e+00 - 830ms/epoch - 26ms/step\n",
            "Epoch 21/100\n",
            "32/32 - 1s - loss: 0.3692 - recall: 0.0274 - val_loss: 0.4048 - val_recall: 0.0000e+00 - 827ms/epoch - 26ms/step\n",
            "Epoch 22/100\n",
            "32/32 - 1s - loss: 0.3559 - recall: 0.1918 - val_loss: 0.4029 - val_recall: 0.0270 - 825ms/epoch - 26ms/step\n",
            "Epoch 23/100\n",
            "32/32 - 1s - loss: 0.3435 - recall: 0.2329 - val_loss: 0.3999 - val_recall: 0.0270 - 808ms/epoch - 25ms/step\n",
            "Epoch 24/100\n",
            "32/32 - 1s - loss: 0.3309 - recall: 0.2603 - val_loss: 0.3888 - val_recall: 0.0541 - 831ms/epoch - 26ms/step\n",
            "Epoch 25/100\n",
            "32/32 - 1s - loss: 0.3107 - recall: 0.3014 - val_loss: 0.3771 - val_recall: 0.2432 - 819ms/epoch - 26ms/step\n",
            "Epoch 26/100\n",
            "32/32 - 1s - loss: 0.2850 - recall: 0.4247 - val_loss: 0.3670 - val_recall: 0.5676 - 806ms/epoch - 25ms/step\n",
            "Epoch 27/100\n",
            "32/32 - 1s - loss: 0.4848 - recall: 0.6644 - val_loss: 0.4152 - val_recall: 0.0270 - 833ms/epoch - 26ms/step\n",
            "Epoch 28/100\n",
            "32/32 - 1s - loss: 0.3091 - recall: 0.2055 - val_loss: 0.3963 - val_recall: 0.0270 - 795ms/epoch - 25ms/step\n",
            "Epoch 29/100\n",
            "32/32 - 1s - loss: 0.2238 - recall: 0.2808 - val_loss: 0.3443 - val_recall: 0.0811 - 795ms/epoch - 25ms/step\n",
            "Epoch 30/100\n",
            "32/32 - 1s - loss: 0.1768 - recall: 0.2877 - val_loss: 0.3509 - val_recall: 0.1351 - 814ms/epoch - 25ms/step\n",
            "Epoch 31/100\n",
            "32/32 - 1s - loss: 0.1562 - recall: 0.4521 - val_loss: 0.3571 - val_recall: 0.5946 - 822ms/epoch - 26ms/step\n",
            "Epoch 32/100\n",
            "32/32 - 1s - loss: 0.1458 - recall: 0.8767 - val_loss: 0.4068 - val_recall: 0.2703 - 813ms/epoch - 25ms/step\n",
            "Epoch 33/100\n",
            "32/32 - 1s - loss: 0.1644 - recall: 0.7945 - val_loss: 0.3427 - val_recall: 0.4324 - 797ms/epoch - 25ms/step\n",
            "Epoch 34/100\n",
            "32/32 - 1s - loss: 0.1062 - recall: 0.9384 - val_loss: 0.3864 - val_recall: 0.5135 - 833ms/epoch - 26ms/step\n",
            "Epoch 35/100\n",
            "32/32 - 1s - loss: 0.0939 - recall: 0.9452 - val_loss: 0.4128 - val_recall: 0.5405 - 824ms/epoch - 26ms/step\n",
            "Epoch 36/100\n",
            "32/32 - 1s - loss: 0.0856 - recall: 0.9521 - val_loss: 0.4321 - val_recall: 0.5405 - 806ms/epoch - 25ms/step\n",
            "Epoch 37/100\n",
            "32/32 - 1s - loss: 0.0726 - recall: 0.9658 - val_loss: 0.4595 - val_recall: 0.5405 - 804ms/epoch - 25ms/step\n",
            "Epoch 38/100\n",
            "32/32 - 1s - loss: 0.0727 - recall: 0.9658 - val_loss: 0.4796 - val_recall: 0.5405 - 771ms/epoch - 24ms/step\n",
            "Epoch 39/100\n",
            "32/32 - 1s - loss: 0.0675 - recall: 0.9658 - val_loss: 0.4730 - val_recall: 0.5405 - 809ms/epoch - 25ms/step\n",
            "Epoch 40/100\n",
            "32/32 - 1s - loss: 0.0682 - recall: 0.9658 - val_loss: 0.4719 - val_recall: 0.5405 - 811ms/epoch - 25ms/step\n",
            "Epoch 41/100\n",
            "32/32 - 1s - loss: 0.0699 - recall: 0.9658 - val_loss: 0.5156 - val_recall: 0.4865 - 802ms/epoch - 25ms/step\n",
            "Epoch 42/100\n",
            "32/32 - 1s - loss: 0.0600 - recall: 0.9658 - val_loss: 0.5176 - val_recall: 0.5135 - 795ms/epoch - 25ms/step\n",
            "Epoch 43/100\n",
            "32/32 - 1s - loss: 0.0638 - recall: 0.9658 - val_loss: 0.5205 - val_recall: 0.4865 - 844ms/epoch - 26ms/step\n",
            "Epoch 44/100\n",
            "32/32 - 1s - loss: 0.0588 - recall: 0.9658 - val_loss: 0.5074 - val_recall: 0.4595 - 805ms/epoch - 25ms/step\n",
            "Epoch 45/100\n",
            "32/32 - 1s - loss: 0.0566 - recall: 0.9589 - val_loss: 0.5408 - val_recall: 0.4595 - 801ms/epoch - 25ms/step\n",
            "Epoch 46/100\n",
            "32/32 - 1s - loss: 0.0481 - recall: 0.9658 - val_loss: 0.5544 - val_recall: 0.4595 - 797ms/epoch - 25ms/step\n",
            "Epoch 47/100\n",
            "32/32 - 1s - loss: 0.0476 - recall: 0.9658 - val_loss: 0.5501 - val_recall: 0.4595 - 790ms/epoch - 25ms/step\n",
            "Epoch 48/100\n",
            "32/32 - 1s - loss: 0.0475 - recall: 0.9658 - val_loss: 0.5488 - val_recall: 0.4595 - 790ms/epoch - 25ms/step\n",
            "Epoch 49/100\n",
            "32/32 - 1s - loss: 0.0519 - recall: 0.9589 - val_loss: 0.5645 - val_recall: 0.5135 - 796ms/epoch - 25ms/step\n",
            "Epoch 50/100\n",
            "32/32 - 1s - loss: 0.0471 - recall: 0.9658 - val_loss: 0.5676 - val_recall: 0.5135 - 798ms/epoch - 25ms/step\n",
            "Epoch 51/100\n",
            "32/32 - 1s - loss: 0.0439 - recall: 0.9658 - val_loss: 0.5716 - val_recall: 0.5135 - 808ms/epoch - 25ms/step\n",
            "Epoch 52/100\n",
            "32/32 - 1s - loss: 0.0473 - recall: 0.9658 - val_loss: 0.5824 - val_recall: 0.5135 - 809ms/epoch - 25ms/step\n",
            "Epoch 53/100\n",
            "32/32 - 1s - loss: 0.0473 - recall: 0.9658 - val_loss: 0.5225 - val_recall: 0.5135 - 831ms/epoch - 26ms/step\n",
            "Epoch 54/100\n",
            "32/32 - 1s - loss: 0.0536 - recall: 0.9521 - val_loss: 0.5261 - val_recall: 0.5135 - 791ms/epoch - 25ms/step\n",
            "Epoch 55/100\n",
            "32/32 - 1s - loss: 0.0537 - recall: 0.9521 - val_loss: 0.5447 - val_recall: 0.5135 - 831ms/epoch - 26ms/step\n",
            "Epoch 56/100\n",
            "32/32 - 1s - loss: 0.0500 - recall: 0.9521 - val_loss: 0.5466 - val_recall: 0.5135 - 827ms/epoch - 26ms/step\n",
            "Epoch 57/100\n",
            "32/32 - 1s - loss: 0.0416 - recall: 0.9589 - val_loss: 0.5883 - val_recall: 0.5135 - 796ms/epoch - 25ms/step\n",
            "Epoch 58/100\n",
            "32/32 - 1s - loss: 0.0438 - recall: 0.9658 - val_loss: 0.5897 - val_recall: 0.5135 - 804ms/epoch - 25ms/step\n",
            "Epoch 59/100\n",
            "32/32 - 1s - loss: 0.0484 - recall: 0.9589 - val_loss: 0.5822 - val_recall: 0.5135 - 809ms/epoch - 25ms/step\n",
            "Epoch 60/100\n",
            "32/32 - 1s - loss: 0.0366 - recall: 0.9658 - val_loss: 0.5973 - val_recall: 0.5135 - 780ms/epoch - 24ms/step\n",
            "Epoch 61/100\n",
            "32/32 - 1s - loss: 0.0401 - recall: 0.9658 - val_loss: 0.6002 - val_recall: 0.5135 - 812ms/epoch - 25ms/step\n",
            "Epoch 62/100\n",
            "32/32 - 1s - loss: 0.0361 - recall: 0.9658 - val_loss: 0.6066 - val_recall: 0.5135 - 784ms/epoch - 25ms/step\n",
            "Epoch 63/100\n",
            "32/32 - 1s - loss: 0.0409 - recall: 0.9589 - val_loss: 0.6156 - val_recall: 0.5135 - 803ms/epoch - 25ms/step\n",
            "Epoch 64/100\n",
            "32/32 - 1s - loss: 0.0408 - recall: 0.9589 - val_loss: 0.6260 - val_recall: 0.5135 - 818ms/epoch - 26ms/step\n",
            "Epoch 65/100\n",
            "32/32 - 1s - loss: 0.0365 - recall: 0.9589 - val_loss: 0.6322 - val_recall: 0.5135 - 816ms/epoch - 25ms/step\n",
            "Epoch 66/100\n",
            "32/32 - 1s - loss: 0.0314 - recall: 0.9658 - val_loss: 0.6471 - val_recall: 0.5135 - 775ms/epoch - 24ms/step\n",
            "Epoch 67/100\n",
            "32/32 - 1s - loss: 0.0358 - recall: 0.9658 - val_loss: 0.6479 - val_recall: 0.5135 - 815ms/epoch - 25ms/step\n",
            "Epoch 68/100\n",
            "32/32 - 1s - loss: 0.0402 - recall: 0.9658 - val_loss: 0.6427 - val_recall: 0.5135 - 803ms/epoch - 25ms/step\n",
            "Epoch 69/100\n",
            "32/32 - 1s - loss: 0.0313 - recall: 0.9658 - val_loss: 0.6516 - val_recall: 0.5135 - 825ms/epoch - 26ms/step\n",
            "Epoch 70/100\n",
            "32/32 - 1s - loss: 0.0311 - recall: 0.9658 - val_loss: 0.6627 - val_recall: 0.5135 - 812ms/epoch - 25ms/step\n",
            "Epoch 71/100\n",
            "32/32 - 1s - loss: 0.0358 - recall: 0.9658 - val_loss: 0.6640 - val_recall: 0.5135 - 818ms/epoch - 26ms/step\n",
            "Epoch 72/100\n",
            "32/32 - 1s - loss: 0.0310 - recall: 0.9658 - val_loss: 0.6709 - val_recall: 0.5135 - 802ms/epoch - 25ms/step\n",
            "Epoch 73/100\n",
            "32/32 - 1s - loss: 0.0357 - recall: 0.9658 - val_loss: 0.6701 - val_recall: 0.5135 - 782ms/epoch - 24ms/step\n",
            "Epoch 74/100\n",
            "32/32 - 1s - loss: 0.0309 - recall: 0.9658 - val_loss: 0.6773 - val_recall: 0.5135 - 801ms/epoch - 25ms/step\n",
            "Epoch 75/100\n",
            "32/32 - 1s - loss: 0.0308 - recall: 0.9658 - val_loss: 0.6853 - val_recall: 0.5135 - 786ms/epoch - 25ms/step\n",
            "Epoch 76/100\n",
            "32/32 - 1s - loss: 0.0309 - recall: 0.9658 - val_loss: 0.6964 - val_recall: 0.5135 - 811ms/epoch - 25ms/step\n",
            "Epoch 77/100\n",
            "32/32 - 1s - loss: 0.0357 - recall: 0.9589 - val_loss: 0.6999 - val_recall: 0.5135 - 823ms/epoch - 26ms/step\n",
            "Epoch 78/100\n",
            "32/32 - 1s - loss: 0.0307 - recall: 0.9658 - val_loss: 0.7036 - val_recall: 0.5135 - 812ms/epoch - 25ms/step\n",
            "Epoch 79/100\n",
            "32/32 - 1s - loss: 0.0414 - recall: 0.9658 - val_loss: 0.6891 - val_recall: 0.5135 - 798ms/epoch - 25ms/step\n",
            "Epoch 80/100\n",
            "32/32 - 1s - loss: 0.0307 - recall: 0.9658 - val_loss: 0.6954 - val_recall: 0.5135 - 805ms/epoch - 25ms/step\n",
            "Epoch 81/100\n",
            "32/32 - 1s - loss: 0.0307 - recall: 0.9658 - val_loss: 0.6983 - val_recall: 0.5135 - 825ms/epoch - 26ms/step\n",
            "Epoch 82/100\n",
            "32/32 - 1s - loss: 0.0306 - recall: 0.9658 - val_loss: 0.7079 - val_recall: 0.5135 - 805ms/epoch - 25ms/step\n",
            "Epoch 83/100\n",
            "32/32 - 1s - loss: 0.0305 - recall: 0.9658 - val_loss: 0.7144 - val_recall: 0.5135 - 810ms/epoch - 25ms/step\n",
            "Epoch 84/100\n",
            "32/32 - 1s - loss: 0.0305 - recall: 0.9658 - val_loss: 0.7199 - val_recall: 0.5135 - 809ms/epoch - 25ms/step\n",
            "Epoch 85/100\n",
            "32/32 - 1s - loss: 0.0305 - recall: 0.9658 - val_loss: 0.7468 - val_recall: 0.5135 - 804ms/epoch - 25ms/step\n",
            "Epoch 86/100\n",
            "32/32 - 1s - loss: 0.0361 - recall: 0.9658 - val_loss: 0.7479 - val_recall: 0.5135 - 787ms/epoch - 25ms/step\n",
            "Epoch 87/100\n",
            "32/32 - 1s - loss: 0.0305 - recall: 0.9658 - val_loss: 0.7182 - val_recall: 0.5135 - 807ms/epoch - 25ms/step\n",
            "Epoch 88/100\n",
            "32/32 - 1s - loss: 0.0304 - recall: 0.9658 - val_loss: 0.7254 - val_recall: 0.5135 - 814ms/epoch - 25ms/step\n",
            "Epoch 89/100\n",
            "32/32 - 1s - loss: 0.0311 - recall: 0.9726 - val_loss: 0.6960 - val_recall: 0.5135 - 802ms/epoch - 25ms/step\n",
            "Epoch 90/100\n",
            "32/32 - 1s - loss: 0.0305 - recall: 0.9658 - val_loss: 0.7028 - val_recall: 0.5135 - 832ms/epoch - 26ms/step\n",
            "Epoch 91/100\n",
            "32/32 - 1s - loss: 0.0254 - recall: 0.9726 - val_loss: 0.7090 - val_recall: 0.5135 - 795ms/epoch - 25ms/step\n",
            "Epoch 92/100\n",
            "32/32 - 1s - loss: 0.0253 - recall: 0.9726 - val_loss: 0.7155 - val_recall: 0.5135 - 817ms/epoch - 26ms/step\n",
            "Epoch 93/100\n",
            "32/32 - 1s - loss: 0.0254 - recall: 0.9726 - val_loss: 0.7415 - val_recall: 0.5135 - 831ms/epoch - 26ms/step\n",
            "Epoch 94/100\n",
            "32/32 - 1s - loss: 0.0253 - recall: 0.9726 - val_loss: 0.7261 - val_recall: 0.5135 - 843ms/epoch - 26ms/step\n",
            "Epoch 95/100\n",
            "32/32 - 1s - loss: 0.0253 - recall: 0.9726 - val_loss: 0.7545 - val_recall: 0.5135 - 825ms/epoch - 26ms/step\n",
            "Epoch 96/100\n",
            "32/32 - 1s - loss: 0.0252 - recall: 0.9726 - val_loss: 0.7610 - val_recall: 0.5135 - 798ms/epoch - 25ms/step\n",
            "Epoch 97/100\n",
            "32/32 - 1s - loss: 0.0251 - recall: 0.9726 - val_loss: 0.7646 - val_recall: 0.5135 - 783ms/epoch - 24ms/step\n",
            "Epoch 98/100\n",
            "32/32 - 1s - loss: 0.0252 - recall: 0.9726 - val_loss: 0.7680 - val_recall: 0.5135 - 817ms/epoch - 26ms/step\n",
            "Epoch 99/100\n",
            "32/32 - 1s - loss: 0.0251 - recall: 0.9726 - val_loss: 0.7733 - val_recall: 0.5135 - 818ms/epoch - 26ms/step\n",
            "Epoch 100/100\n",
            "32/32 - 1s - loss: 0.0304 - recall: 0.9658 - val_loss: 0.7749 - val_recall: 0.5135 - 785ms/epoch - 25ms/step\n"
          ]
        }
      ],
      "source": [
        "hist = model.fit(train_padded, train_labels, epochs=100, validation_data=(val_padded, val_labels), verbose=2)"
      ]
    },
    {
      "cell_type": "code",
      "source": [
        "import matplotlib.pyplot as plt\n",
        "\n",
        "hist.history\n",
        "plt.plot(hist.history['recall'])\n",
        "plt.title('model performance(recall)')\n",
        "plt.ylabel('Recall')\n",
        "plt.xlabel('Epoch')\n",
        "plt.legend(['train'], loc='upper left')\n",
        "plt.show()"
      ],
      "metadata": {
        "colab": {
          "base_uri": "https://localhost:8080/"
        },
        "id": "7P8lZ363atwG",
        "outputId": "dceb890d-2ae7-4027-8378-dcd957282d45"
      },
      "execution_count": null,
      "outputs": [
        {
          "output_type": "display_data",
          "data": {
            "image/png": "[encoded data removed]",
            "text/plain": [
              "<Figure size 432x288 with 1 Axes>"
            ]
          },
          "metadata": {
            "needs_background": "light"
          }
        }
      ]
    },
    {
      "cell_type": "code",
      "execution_count": null,
      "metadata": {
        "id": "PU_ntHlqqIJ9"
      },
      "outputs": [],
      "source": [
        "predictions = model.predict(val_padded)\n",
        "predictions = [1 if p > 0.5 else 0 for p in predictions]"
      ]
    },
    {
      "cell_type": "markdown",
      "source": [
        "#Classification Report"
      ],
      "metadata": {
        "id": "hPUueMgo4T5H"
      }
    },
    {
      "cell_type": "code",
      "source": [
        "from sklearn.metrics import classification_report\n",
        "\n",
        "print(classification_report(val_labels, predictions))\n"
      ],
      "metadata": {
        "id": "uggWQfWPYrcK",
        "colab": {
          "base_uri": "https://localhost:8080/"
        },
        "outputId": "45a6ff73-eefa-4ff2-caab-7ea976626ed3"
      },
      "execution_count": null,
      "outputs": [
        {
          "output_type": "stream",
          "name": "stdout",
          "text": [
            "              precision    recall  f1-score   support\n",
            "\n",
            "           0       0.92      0.93      0.92       219\n",
            "           1       0.54      0.51      0.53        37\n",
            "\n",
            "    accuracy                           0.87       256\n",
            "   macro avg       0.73      0.72      0.73       256\n",
            "weighted avg       0.86      0.87      0.87       256\n",
            "\n"
          ]
        }
      ]
    },
    {
      "cell_type": "code",
      "source": [
        "from sklearn.metrics import accuracy_score, precision_score, recall_score, f1_score\n",
        "\n",
        "accuracy = accuracy_score(val_labels, predictions)\n",
        "recall = recall_score(val_labels, predictions)\n",
        "precision = precision_score(val_labels, predictions)\n",
        "f1 = f1_score(val_labels, predictions)\n",
        "\n",
        "print(f'Accuracy: {accuracy}')\n",
        "print(f'F1_Score: {f1}')\n",
        "print(f'Precision: {precision}')\n",
        "print(f'Recall: {recall}')"
      ],
      "metadata": {
        "id": "cTU_W8zFrlWu",
        "colab": {
          "base_uri": "https://localhost:8080/"
        },
        "outputId": "30626bdb-116f-4317-ee27-87d1bbd9f455"
      },
      "execution_count": null,
      "outputs": [
        {
          "output_type": "stream",
          "name": "stdout",
          "text": [
            "Accuracy: 0.8671875\n",
            "F1_Score: 0.5277777777777778\n",
            "Precision: 0.5428571428571428\n",
            "Recall: 0.5135135135135135\n"
          ]
        }
      ]
    },
    {
      "cell_type": "markdown",
      "source": [
        "# References and Doccumentations for later use\n",
        "\n",
        " 1. https://www.coursera.org/learn/natural-language-processing-tensorflow/home/welcome\n",
        " 2. https://www.tensorflow.org/text/tutorials/text_classification_rnn\n",
        " 3. https://www.youtube.com/watch?v=fNxaJsNG3-s&list=PLQY2H8rRoyvzDbLUZkbudP-MFQZwNmU4S\n",
        " 4. https://www.youtube.com/watch?v=aircAruvnKk\n",
        " 5. https://github.com/python-engineer/tensorflow-course\n",
        " 6. https://keras.io/api/layers/recurrent_layers/bidirectional/\n",
        " 7. https://www.analyticsvidhya.com/blog/2021/03/introduction-to-long-short-term-memory-lstm/\n",
        " 8. https://realpython.com/python-keras-text-classification/\n",
        " 9. Dataset: https://heidata.uni-heidelberg.de/dataset.xhtml;jsessionid=906ce23d249bdd3ead0265954f80?persistentId=doi%3A10.11588%2Fdata%2FMKPEYV&version=&q=&fileTypeGroupFacet=%22Archive%22&fileTag=&fileSortField=&fileSortOrder="
      ],
      "metadata": {
        "id": "iRKcFOA9wAfc"
      }
    }
  ],
  "metadata": {
    "kernelspec": {
      "display_name": "tf",
      "language": "python",
      "name": "tf"
    },
    "language_info": {
      "codemirror_mode": {
        "name": "ipython",
        "version": 3
      },
      "file_extension": ".py",
      "mimetype": "text/x-python",
      "name": "python",
      "nbconvert_exporter": "python",
      "pygments_lexer": "ipython3",
      "version": "3.8.5"
    },
    "colab": {
      "name": "Vulgarity Detection in a Sentence using RNN.ipynb",
      "provenance": [],
      "collapsed_sections": []
    }
  },
  "nbformat": 4,
  "nbformat_minor": 0
}
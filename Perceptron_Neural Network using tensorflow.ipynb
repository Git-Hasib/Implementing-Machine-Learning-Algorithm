{
  "nbformat": 4,
  "nbformat_minor": 0,
  "metadata": {
    "colab": {
      "name": "tensorflow.ipynb",
      "provenance": [],
      "collapsed_sections": []
    },
    "kernelspec": {
      "name": "python3",
      "display_name": "Python 3"
    },
    "language_info": {
      "name": "python"
    }
  },
  "cells": [
    {
      "cell_type": "markdown",
      "source": [
        "#Implemention Of Neural Network using TensorFlow"
      ],
      "metadata": {
        "id": "Di9gPsVi0enC"
      }
    },
    {
      "cell_type": "code",
      "execution_count": null,
      "metadata": {
        "id": "AGCYypCq0Ma8"
      },
      "outputs": [],
      "source": [
        "import numpy as np\n",
        "import pandas as pd"
      ]
    },
    {
      "cell_type": "code",
      "source": [
        "dataset_url = \"https://raw.githubusercontent.com/jbrownlee/Datasets/master/pima-indians-diabetes.data.csv\""
      ],
      "metadata": {
        "id": "_-eRfLE60V9g"
      },
      "execution_count": null,
      "outputs": []
    },
    {
      "cell_type": "code",
      "source": [
        "df = pd.read_csv(dataset_url, header=None)\n",
        "df.head(10)"
      ],
      "metadata": {
        "id": "Xs8ll6E90csY"
      },
      "execution_count": null,
      "outputs": []
    },
    {
      "cell_type": "code",
      "source": [
        "df.columns"
      ],
      "metadata": {
        "id": "c9D9bXaj0qYB"
      },
      "execution_count": null,
      "outputs": []
    },
    {
      "cell_type": "code",
      "source": [
        "from sklearn.model_selection import train_test_split\n",
        "\n",
        "x = df.iloc[:, :-1]\n",
        "y = df.iloc[:, -1]\n",
        "\n",
        "print(x.head(10))\n",
        "print(y.head(10))"
      ],
      "metadata": {
        "id": "fcv_eNd31any"
      },
      "execution_count": null,
      "outputs": []
    },
    {
      "cell_type": "code",
      "source": [
        "x_train, x_test, y_train, y_test = train_test_split(x, y, random_state=911, stratify=y)\n",
        "\n",
        "x_train, y_train\n",
        "print(x_train.shape)\n",
        "print(y_train.shape)\n"
      ],
      "metadata": {
        "id": "qBVsTTFm3FhD"
      },
      "execution_count": null,
      "outputs": []
    },
    {
      "cell_type": "code",
      "source": [
        "input_layer_dim = x_train.shape[1]\n",
        "\n",
        "hidden_layer_1_dim = 3\n",
        "hidden_layer_2_dim = 4\n",
        "\n",
        "output_layer_dim = 1"
      ],
      "metadata": {
        "id": "4vZy6W2h3wOE"
      },
      "execution_count": null,
      "outputs": []
    },
    {
      "cell_type": "code",
      "source": [
        "import tensorflow as tf\n",
        "from tensorflow.keras import Sequential\n",
        "from tensorflow.keras.layers import Dense, Dropout\n",
        "from tensorflow.keras.utils import plot_model"
      ],
      "metadata": {
        "id": "MN5s2UTr3048"
      },
      "execution_count": null,
      "outputs": []
    },
    {
      "cell_type": "code",
      "source": [
        "hidden_layer_1 = Dense(hidden_layer_1_dim, \n",
        "                      input_dim=input_layer_dim, \n",
        "                      activation='relu')  # relu = Rectified Linear Unit\n",
        "\n",
        "hidden_layer_2 = Dense(hidden_layer_2_dim,  \n",
        "                      activation='sigmoid')  # sigmoid = Sigmoid Unit\n",
        "\n",
        "output_layer = Dense(output_layer_dim, \n",
        "                      activation='relu')  # relu = Rectified Linear Unit"
      ],
      "metadata": {
        "id": "_Vx7CKlC38Mg"
      },
      "execution_count": null,
      "outputs": []
    },
    {
      "cell_type": "code",
      "source": [
        "model = Sequential()\n",
        "model.add(hidden_layer_1)\n",
        "model.add(Dropout(rate=0.1))\n",
        "model.add(hidden_layer_2)\n",
        "model.add(output_layer)\n",
        "\n",
        "model.summary()"
      ],
      "metadata": {
        "id": "w-38cnDW3_AU"
      },
      "execution_count": null,
      "outputs": []
    },
    {
      "cell_type": "code",
      "source": [
        "model.compile(loss='binary_crossentropy', \n",
        "              optimizer='adam', \n",
        "              metrics=['accuracy', 'Precision', 'Recall'])\n",
        "plot_model(model, to_file='model.png', show_shapes=True, show_layer_names=True)\n"
      ],
      "metadata": {
        "id": "WA9qZQkD48KN"
      },
      "execution_count": null,
      "outputs": []
    },
    {
      "cell_type": "code",
      "source": [
        "hist = model.fit(x_train, y_train, epochs=200, batch_size=64)\n",
        "hist.history"
      ],
      "metadata": {
        "id": "TnZfEdG04CfK"
      },
      "execution_count": null,
      "outputs": []
    },
    {
      "cell_type": "code",
      "source": [
        "import matplotlib.pyplot as plt\n",
        "\n",
        "# plt.plot(hist.history['accuracy'])\n",
        "plt.plot(hist.history['loss'])\n",
        "plt.title('model performance')\n",
        "plt.ylabel('loss')\n",
        "plt.xlabel('epoch')\n",
        "plt.legend(['train'], loc='upper left')\n",
        "plt.show()"
      ],
      "metadata": {
        "id": "YSAWG1EpglZx"
      },
      "execution_count": null,
      "outputs": []
    },
    {
      "cell_type": "code",
      "source": [
        "y_pred = (model.predict(x_test) > 0.5).astype(int)\n",
        "y_pred"
      ],
      "metadata": {
        "id": "mgcTYCqfgqsR"
      },
      "execution_count": null,
      "outputs": []
    },
    {
      "cell_type": "code",
      "source": [
        "from sklearn.metrics import accuracy_score, f1_score\n",
        "\n",
        "accuracy_score(y_test, y_pred)"
      ],
      "metadata": {
        "id": "8AQhAnargvKB"
      },
      "execution_count": null,
      "outputs": []
    },
    {
      "cell_type": "code",
      "source": [
        "model.evaluate(x_test, y_test)"
      ],
      "metadata": {
        "id": "Ywe0hcqOgy4J"
      },
      "execution_count": null,
      "outputs": []
    }
  ]
}